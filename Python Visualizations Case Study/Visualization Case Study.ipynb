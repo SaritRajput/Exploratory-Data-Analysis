{
 "cells": [
  {
   "cell_type": "code",
   "execution_count": 4,
   "metadata": {},
   "outputs": [],
   "source": [
    "import numpy as np\n",
    "import pandas as pd\n",
    "import matplotlib.pyplot as plt\n",
    "%matplotlib inline\n",
    "import seaborn as sns"
   ]
  },
  {
   "cell_type": "code",
   "execution_count": 6,
   "metadata": {},
   "outputs": [
    {
     "data": {
      "text/html": [
       "<div>\n",
       "<style scoped>\n",
       "    .dataframe tbody tr th:only-of-type {\n",
       "        vertical-align: middle;\n",
       "    }\n",
       "\n",
       "    .dataframe tbody tr th {\n",
       "        vertical-align: top;\n",
       "    }\n",
       "\n",
       "    .dataframe thead th {\n",
       "        text-align: right;\n",
       "    }\n",
       "</style>\n",
       "<table border=\"1\" class=\"dataframe\">\n",
       "  <thead>\n",
       "    <tr style=\"text-align: right;\">\n",
       "      <th></th>\n",
       "      <th>AccountId</th>\n",
       "      <th>AccountName</th>\n",
       "      <th>Region</th>\n",
       "      <th>Division</th>\n",
       "      <th>City</th>\n",
       "      <th>State</th>\n",
       "      <th>Tier</th>\n",
       "      <th>Month</th>\n",
       "      <th>Sales2015</th>\n",
       "      <th>Sales2016</th>\n",
       "      <th>Units2015</th>\n",
       "      <th>Units2016</th>\n",
       "      <th>TargetAchevied2015</th>\n",
       "      <th>TargetAchevied2016</th>\n",
       "    </tr>\n",
       "  </thead>\n",
       "  <tbody>\n",
       "    <tr>\n",
       "      <th>0</th>\n",
       "      <td>1116</td>\n",
       "      <td>Account1</td>\n",
       "      <td>West</td>\n",
       "      <td>DIAMONDBACK</td>\n",
       "      <td>PHOENIX W</td>\n",
       "      <td>AZ</td>\n",
       "      <td>Low</td>\n",
       "      <td>Aug</td>\n",
       "      <td>0.00</td>\n",
       "      <td>13208.52</td>\n",
       "      <td>0.0</td>\n",
       "      <td>4.0</td>\n",
       "      <td>0.70</td>\n",
       "      <td>1.53</td>\n",
       "    </tr>\n",
       "    <tr>\n",
       "      <th>1</th>\n",
       "      <td>1116</td>\n",
       "      <td>Account1</td>\n",
       "      <td>West</td>\n",
       "      <td>DIAMONDBACK</td>\n",
       "      <td>PHOENIX W</td>\n",
       "      <td>AZ</td>\n",
       "      <td>Low</td>\n",
       "      <td>Oct</td>\n",
       "      <td>10500.78</td>\n",
       "      <td>23114.91</td>\n",
       "      <td>3.0</td>\n",
       "      <td>7.0</td>\n",
       "      <td>0.84</td>\n",
       "      <td>1.31</td>\n",
       "    </tr>\n",
       "    <tr>\n",
       "      <th>2</th>\n",
       "      <td>2391</td>\n",
       "      <td>Account2</td>\n",
       "      <td>East</td>\n",
       "      <td>MINUTEMEN</td>\n",
       "      <td>HARTFORD</td>\n",
       "      <td>CT</td>\n",
       "      <td>Med</td>\n",
       "      <td>Jun</td>\n",
       "      <td>0.00</td>\n",
       "      <td>6627.00</td>\n",
       "      <td>0.0</td>\n",
       "      <td>3.0</td>\n",
       "      <td>1.15</td>\n",
       "      <td>1.29</td>\n",
       "    </tr>\n",
       "  </tbody>\n",
       "</table>\n",
       "</div>"
      ],
      "text/plain": [
       "   AccountId AccountName Region     Division       City State Tier Month  \\\n",
       "0       1116    Account1   West  DIAMONDBACK  PHOENIX W    AZ  Low   Aug   \n",
       "1       1116    Account1   West  DIAMONDBACK  PHOENIX W    AZ  Low   Oct   \n",
       "2       2391    Account2   East    MINUTEMEN   HARTFORD    CT  Med   Jun   \n",
       "\n",
       "   Sales2015  Sales2016  Units2015  Units2016  TargetAchevied2015  \\\n",
       "0       0.00   13208.52        0.0        4.0                0.70   \n",
       "1   10500.78   23114.91        3.0        7.0                0.84   \n",
       "2       0.00    6627.00        0.0        3.0                1.15   \n",
       "\n",
       "   TargetAchevied2016  \n",
       "0                1.53  \n",
       "1                1.31  \n",
       "2                1.29  "
      ]
     },
     "execution_count": 6,
     "metadata": {},
     "output_type": "execute_result"
    }
   ],
   "source": [
    "# importing the data\n",
    "visual=pd.read_csv('SalesData.csv')\n",
    "visual.head(3)"
   ]
  },
  {
   "cell_type": "code",
   "execution_count": 9,
   "metadata": {},
   "outputs": [
    {
     "name": "stdout",
     "output_type": "stream",
     "text": [
      "<class 'pandas.core.frame.DataFrame'>\n",
      "RangeIndex: 3709 entries, 0 to 3708\n",
      "Data columns (total 14 columns):\n",
      " #   Column              Non-Null Count  Dtype  \n",
      "---  ------              --------------  -----  \n",
      " 0   AccountId           3709 non-null   int64  \n",
      " 1   AccountName         3709 non-null   object \n",
      " 2   Region              3709 non-null   object \n",
      " 3   Division            3709 non-null   object \n",
      " 4   City                3709 non-null   object \n",
      " 5   State               3709 non-null   object \n",
      " 6   Tier                3709 non-null   object \n",
      " 7   Month               3709 non-null   object \n",
      " 8   Sales2015           3709 non-null   float64\n",
      " 9   Sales2016           3709 non-null   float64\n",
      " 10  Units2015           3709 non-null   float64\n",
      " 11  Units2016           3709 non-null   float64\n",
      " 12  TargetAchevied2015  3709 non-null   float64\n",
      " 13  TargetAchevied2016  3709 non-null   float64\n",
      "dtypes: float64(6), int64(1), object(7)\n",
      "memory usage: 405.8+ KB\n"
     ]
    }
   ],
   "source": [
    "# check the datatype\n",
    "visual.info()"
   ]
  },
  {
   "cell_type": "markdown",
   "metadata": {},
   "source": [
    "### Compare Sales by region for 2016 with 2015 using bar chart"
   ]
  },
  {
   "cell_type": "code",
   "execution_count": 14,
   "metadata": {},
   "outputs": [
    {
     "name": "stderr",
     "output_type": "stream",
     "text": [
      "C:\\Users\\Sarita\\anaconda3\\lib\\site-packages\\ipykernel_launcher.py:1: FutureWarning: Indexing with multiple keys (implicitly converted to a tuple of keys) will be deprecated, use a list instead.\n",
      "  \"\"\"Entry point for launching an IPython kernel.\n"
     ]
    },
    {
     "data": {
      "image/png": "[encoded data removed]",
      "text/plain": [
       "<Figure size 864x432 with 1 Axes>"
      ]
     },
     "metadata": {
      "needs_background": "light"
     },
     "output_type": "display_data"
    }
   ],
   "source": [
    "visual.groupby('Region')['Sales2015','Sales2016'].sum().plot(kind='bar',figsize=(12,6))\n",
    "plt.ylabel('sales')\n",
    "plt.show()"
   ]
  },
  {
   "cell_type": "code",
   "execution_count": 16,
   "metadata": {},
   "outputs": [],
   "source": [
    "visual.plot?"
   ]
  },
  {
   "cell_type": "markdown",
   "metadata": {},
   "source": [
    "#### 2. What are the contributing factors to the sales for each region in 2016. Visualize it using a Pie Chart.\n"
   ]
  },
  {
   "cell_type": "code",
   "execution_count": 17,
   "metadata": {},
   "outputs": [
    {
     "data": {
      "image/png": "[encoded data removed]",
      "text/plain": [
       "<Figure size 432x288 with 1 Axes>"
      ]
     },
     "metadata": {},
     "output_type": "display_data"
    }
   ],
   "source": [
    "visual.groupby('Region').Sales2016.sum().plot(title='Pie Chart of Sale 2016',kind='pie')\n",
    "plt.show()"
   ]
  },
  {
   "cell_type": "markdown",
   "metadata": {},
   "source": [
    "#### 3. Compare the total sales of 2015 and 2016 with respect to Region and Tiers"
   ]
  },
  {
   "cell_type": "code",
   "execution_count": 18,
   "metadata": {},
   "outputs": [
    {
     "name": "stderr",
     "output_type": "stream",
     "text": [
      "C:\\Users\\Sarita\\anaconda3\\lib\\site-packages\\ipykernel_launcher.py:1: FutureWarning: Indexing with multiple keys (implicitly converted to a tuple of keys) will be deprecated, use a list instead.\n",
      "  \"\"\"Entry point for launching an IPython kernel.\n"
     ]
    },
    {
     "data": {
      "image/png": "[encoded data removed]",
      "text/plain": [
       "<Figure size 432x288 with 1 Axes>"
      ]
     },
     "metadata": {
      "needs_background": "light"
     },
     "output_type": "display_data"
    }
   ],
   "source": [
    "visual.groupby(['Region','Tier'])['Sales2015','Sales2016'].sum().plot(kind='bar')\n",
    "plt.ylabel('sales')\n",
    "plt.show()"
   ]
  },
  {
   "cell_type": "markdown",
   "metadata": {},
   "source": [
    "#### 4. In East region, which state registered a decline in 2016 as compared to 2015?"
   ]
  },
  {
   "cell_type": "code",
   "execution_count": 19,
   "metadata": {},
   "outputs": [
    {
     "ename": "NameError",
     "evalue": "name 'State' is not defined",
     "output_type": "error",
     "traceback": [
      "\u001b[1;31m---------------------------------------------------------------------------\u001b[0m",
      "\u001b[1;31mNameError\u001b[0m                                 Traceback (most recent call last)",
      "\u001b[1;32m<ipython-input-19-68e2f1ffd0c3>\u001b[0m in \u001b[0;36m<module>\u001b[1;34m\u001b[0m\n\u001b[1;32m----> 1\u001b[1;33m \u001b[0mvisual\u001b[0m\u001b[1;33m.\u001b[0m\u001b[0mgroupby\u001b[0m\u001b[1;33m(\u001b[0m\u001b[0mvisual\u001b[0m\u001b[1;33m.\u001b[0m\u001b[0mRegion\u001b[0m\u001b[1;33m==\u001b[0m\u001b[1;34m'East'\u001b[0m\u001b[1;33m,\u001b[0m\u001b[0mState\u001b[0m\u001b[1;33m)\u001b[0m\u001b[1;33m.\u001b[0m\u001b[0maggregate\u001b[0m\u001b[1;33m(\u001b[0m\u001b[1;33m{\u001b[0m\u001b[1;34m'Sales2015'\u001b[0m\u001b[1;33m:\u001b[0m\u001b[1;33m[\u001b[0m\u001b[1;34m'sum'\u001b[0m\u001b[1;33m]\u001b[0m\u001b[1;33m,\u001b[0m\u001b[1;34m'Sales2016'\u001b[0m\u001b[1;33m:\u001b[0m\u001b[1;33m[\u001b[0m\u001b[1;34m'sum'\u001b[0m\u001b[1;33m]\u001b[0m\u001b[1;33m}\u001b[0m\u001b[1;33m)\u001b[0m\u001b[1;33m.\u001b[0m\u001b[0mplot\u001b[0m\u001b[1;33m(\u001b[0m\u001b[0mkind\u001b[0m\u001b[1;33m=\u001b[0m\u001b[1;34m'bar'\u001b[0m\u001b[1;33m)\u001b[0m\u001b[1;33m\u001b[0m\u001b[1;33m\u001b[0m\u001b[0m\n\u001b[0m",
      "\u001b[1;31mNameError\u001b[0m: name 'State' is not defined"
     ]
    }
   ],
   "source": [
    "visual.groupby(visual.Region=='East',State).aggregate({'Sales2015':['sum'],'Sales2016':['sum']}).plot(kind='bar')"
   ]
  },
  {
   "cell_type": "markdown",
   "metadata": {},
   "source": [
    "### 5. In all the High tier, which Division saw a decline in number of units sold in 2016 compared to 2015?\n"
   ]
  },
  {
   "cell_type": "code",
   "execution_count": 20,
   "metadata": {},
   "outputs": [
    {
     "data": {
      "image/png": "[encoded data removed]",
      "text/plain": [
       "<Figure size 432x288 with 1 Axes>"
      ]
     },
     "metadata": {
      "needs_background": "light"
     },
     "output_type": "display_data"
    }
   ],
   "source": [
    "s1=visual.loc[(visual.Tier==\"High\")].groupby(['Division']).aggregate({'Units2015':['sum'],'Units2016':['sum']})\n",
    "s1.plot(kind=\"bar\")\n",
    "plt.ylabel(\"Units\")\n",
    "plt.show()"
   ]
  },
  {
   "cell_type": "markdown",
   "metadata": {},
   "source": [
    "### 6. Create a new column Qtr using numpy.where() or any suitable utility in the imported dataset. The Quarters are based on months and defined as -\n",
    "• Jan - Mar : Q1\n",
    "• Apr - Jun : Q2\n",
    "• Jul - Sep : Q3\n",
    "• Oct - Dec : Q4 "
   ]
  },
  {
   "cell_type": "code",
   "execution_count": 21,
   "metadata": {},
   "outputs": [
    {
     "data": {
      "text/html": [
       "<div>\n",
       "<style scoped>\n",
       "    .dataframe tbody tr th:only-of-type {\n",
       "        vertical-align: middle;\n",
       "    }\n",
       "\n",
       "    .dataframe tbody tr th {\n",
       "        vertical-align: top;\n",
       "    }\n",
       "\n",
       "    .dataframe thead th {\n",
       "        text-align: right;\n",
       "    }\n",
       "</style>\n",
       "<table border=\"1\" class=\"dataframe\">\n",
       "  <thead>\n",
       "    <tr style=\"text-align: right;\">\n",
       "      <th></th>\n",
       "      <th>AccountId</th>\n",
       "      <th>AccountName</th>\n",
       "      <th>Region</th>\n",
       "      <th>Division</th>\n",
       "      <th>City</th>\n",
       "      <th>State</th>\n",
       "      <th>Tier</th>\n",
       "      <th>Month</th>\n",
       "      <th>Sales2015</th>\n",
       "      <th>Sales2016</th>\n",
       "      <th>Units2015</th>\n",
       "      <th>Units2016</th>\n",
       "      <th>TargetAchevied2015</th>\n",
       "      <th>TargetAchevied2016</th>\n",
       "      <th>Qtr</th>\n",
       "    </tr>\n",
       "  </thead>\n",
       "  <tbody>\n",
       "    <tr>\n",
       "      <th>0</th>\n",
       "      <td>1116</td>\n",
       "      <td>Account1</td>\n",
       "      <td>West</td>\n",
       "      <td>DIAMONDBACK</td>\n",
       "      <td>PHOENIX W</td>\n",
       "      <td>AZ</td>\n",
       "      <td>Low</td>\n",
       "      <td>Aug</td>\n",
       "      <td>0.00</td>\n",
       "      <td>13208.52</td>\n",
       "      <td>0.0</td>\n",
       "      <td>4.0</td>\n",
       "      <td>0.70</td>\n",
       "      <td>1.53</td>\n",
       "      <td>Q3</td>\n",
       "    </tr>\n",
       "    <tr>\n",
       "      <th>1</th>\n",
       "      <td>1116</td>\n",
       "      <td>Account1</td>\n",
       "      <td>West</td>\n",
       "      <td>DIAMONDBACK</td>\n",
       "      <td>PHOENIX W</td>\n",
       "      <td>AZ</td>\n",
       "      <td>Low</td>\n",
       "      <td>Oct</td>\n",
       "      <td>10500.78</td>\n",
       "      <td>23114.91</td>\n",
       "      <td>3.0</td>\n",
       "      <td>7.0</td>\n",
       "      <td>0.84</td>\n",
       "      <td>1.31</td>\n",
       "      <td>Q4</td>\n",
       "    </tr>\n",
       "    <tr>\n",
       "      <th>2</th>\n",
       "      <td>2391</td>\n",
       "      <td>Account2</td>\n",
       "      <td>East</td>\n",
       "      <td>MINUTEMEN</td>\n",
       "      <td>HARTFORD</td>\n",
       "      <td>CT</td>\n",
       "      <td>Med</td>\n",
       "      <td>Jun</td>\n",
       "      <td>0.00</td>\n",
       "      <td>6627.00</td>\n",
       "      <td>0.0</td>\n",
       "      <td>3.0</td>\n",
       "      <td>1.15</td>\n",
       "      <td>1.29</td>\n",
       "      <td>Q2</td>\n",
       "    </tr>\n",
       "    <tr>\n",
       "      <th>3</th>\n",
       "      <td>2391</td>\n",
       "      <td>Account2</td>\n",
       "      <td>East</td>\n",
       "      <td>MINUTEMEN</td>\n",
       "      <td>HARTFORD</td>\n",
       "      <td>CT</td>\n",
       "      <td>Med</td>\n",
       "      <td>Mar</td>\n",
       "      <td>19881.00</td>\n",
       "      <td>13254.00</td>\n",
       "      <td>9.0</td>\n",
       "      <td>6.0</td>\n",
       "      <td>1.33</td>\n",
       "      <td>1.17</td>\n",
       "      <td>NaN</td>\n",
       "    </tr>\n",
       "    <tr>\n",
       "      <th>4</th>\n",
       "      <td>2397</td>\n",
       "      <td>Account3</td>\n",
       "      <td>East</td>\n",
       "      <td>MINUTEMEN</td>\n",
       "      <td>WORCESTER</td>\n",
       "      <td>MA</td>\n",
       "      <td>Med</td>\n",
       "      <td>Sep</td>\n",
       "      <td>3684.48</td>\n",
       "      <td>0.00</td>\n",
       "      <td>1.0</td>\n",
       "      <td>0.0</td>\n",
       "      <td>1.02</td>\n",
       "      <td>1.53</td>\n",
       "      <td>Q3</td>\n",
       "    </tr>\n",
       "    <tr>\n",
       "      <th>...</th>\n",
       "      <td>...</td>\n",
       "      <td>...</td>\n",
       "      <td>...</td>\n",
       "      <td>...</td>\n",
       "      <td>...</td>\n",
       "      <td>...</td>\n",
       "      <td>...</td>\n",
       "      <td>...</td>\n",
       "      <td>...</td>\n",
       "      <td>...</td>\n",
       "      <td>...</td>\n",
       "      <td>...</td>\n",
       "      <td>...</td>\n",
       "      <td>...</td>\n",
       "      <td>...</td>\n",
       "    </tr>\n",
       "    <tr>\n",
       "      <th>3704</th>\n",
       "      <td>7576</td>\n",
       "      <td>Account2736</td>\n",
       "      <td>East</td>\n",
       "      <td>EMPIRE</td>\n",
       "      <td>SYRACUSE</td>\n",
       "      <td>NY</td>\n",
       "      <td>Out</td>\n",
       "      <td>Feb</td>\n",
       "      <td>3684.48</td>\n",
       "      <td>0.00</td>\n",
       "      <td>1.0</td>\n",
       "      <td>0.0</td>\n",
       "      <td>1.06</td>\n",
       "      <td>1.14</td>\n",
       "      <td>Q1</td>\n",
       "    </tr>\n",
       "    <tr>\n",
       "      <th>3705</th>\n",
       "      <td>4969</td>\n",
       "      <td>Account2740</td>\n",
       "      <td>Central</td>\n",
       "      <td>SOUTHERN STAR</td>\n",
       "      <td>MONTGOMERY</td>\n",
       "      <td>AL</td>\n",
       "      <td>Med</td>\n",
       "      <td>Aug</td>\n",
       "      <td>3684.48</td>\n",
       "      <td>0.00</td>\n",
       "      <td>1.0</td>\n",
       "      <td>0.0</td>\n",
       "      <td>0.96</td>\n",
       "      <td>1.11</td>\n",
       "      <td>Q3</td>\n",
       "    </tr>\n",
       "    <tr>\n",
       "      <th>3706</th>\n",
       "      <td>2850</td>\n",
       "      <td>Account2746</td>\n",
       "      <td>East</td>\n",
       "      <td>SYNERGY</td>\n",
       "      <td>ASHEVILLE</td>\n",
       "      <td>NC</td>\n",
       "      <td>High</td>\n",
       "      <td>Nov</td>\n",
       "      <td>5067.70</td>\n",
       "      <td>0.00</td>\n",
       "      <td>2.0</td>\n",
       "      <td>0.0</td>\n",
       "      <td>1.11</td>\n",
       "      <td>1.55</td>\n",
       "      <td>Q4</td>\n",
       "    </tr>\n",
       "    <tr>\n",
       "      <th>3707</th>\n",
       "      <td>1102265</td>\n",
       "      <td>Account2748</td>\n",
       "      <td>West</td>\n",
       "      <td>DIAMONDBACK</td>\n",
       "      <td>SCOTTSDALE</td>\n",
       "      <td>AZ</td>\n",
       "      <td>Out</td>\n",
       "      <td>Jan</td>\n",
       "      <td>3684.48</td>\n",
       "      <td>0.00</td>\n",
       "      <td>1.0</td>\n",
       "      <td>0.0</td>\n",
       "      <td>1.31</td>\n",
       "      <td>1.48</td>\n",
       "      <td>Q1</td>\n",
       "    </tr>\n",
       "    <tr>\n",
       "      <th>3708</th>\n",
       "      <td>47282</td>\n",
       "      <td>Account2750</td>\n",
       "      <td>West</td>\n",
       "      <td>CHARGERS</td>\n",
       "      <td>SAN JOSE</td>\n",
       "      <td>CA</td>\n",
       "      <td>Low</td>\n",
       "      <td>Jun</td>\n",
       "      <td>2858.71</td>\n",
       "      <td>0.00</td>\n",
       "      <td>1.0</td>\n",
       "      <td>0.0</td>\n",
       "      <td>1.33</td>\n",
       "      <td>1.01</td>\n",
       "      <td>Q2</td>\n",
       "    </tr>\n",
       "  </tbody>\n",
       "</table>\n",
       "<p>3709 rows × 15 columns</p>\n",
       "</div>"
      ],
      "text/plain": [
       "      AccountId  AccountName   Region       Division        City State  Tier  \\\n",
       "0          1116     Account1     West    DIAMONDBACK   PHOENIX W    AZ   Low   \n",
       "1          1116     Account1     West    DIAMONDBACK   PHOENIX W    AZ   Low   \n",
       "2          2391     Account2     East      MINUTEMEN    HARTFORD    CT   Med   \n",
       "3          2391     Account2     East      MINUTEMEN    HARTFORD    CT   Med   \n",
       "4          2397     Account3     East      MINUTEMEN   WORCESTER    MA   Med   \n",
       "...         ...          ...      ...            ...         ...   ...   ...   \n",
       "3704       7576  Account2736     East         EMPIRE    SYRACUSE    NY   Out   \n",
       "3705       4969  Account2740  Central  SOUTHERN STAR  MONTGOMERY    AL   Med   \n",
       "3706       2850  Account2746     East        SYNERGY   ASHEVILLE    NC  High   \n",
       "3707    1102265  Account2748     West    DIAMONDBACK  SCOTTSDALE    AZ   Out   \n",
       "3708      47282  Account2750     West       CHARGERS    SAN JOSE    CA   Low   \n",
       "\n",
       "     Month  Sales2015  Sales2016  Units2015  Units2016  TargetAchevied2015  \\\n",
       "0      Aug       0.00   13208.52        0.0        4.0                0.70   \n",
       "1      Oct   10500.78   23114.91        3.0        7.0                0.84   \n",
       "2      Jun       0.00    6627.00        0.0        3.0                1.15   \n",
       "3      Mar   19881.00   13254.00        9.0        6.0                1.33   \n",
       "4      Sep    3684.48       0.00        1.0        0.0                1.02   \n",
       "...    ...        ...        ...        ...        ...                 ...   \n",
       "3704   Feb    3684.48       0.00        1.0        0.0                1.06   \n",
       "3705   Aug    3684.48       0.00        1.0        0.0                0.96   \n",
       "3706   Nov    5067.70       0.00        2.0        0.0                1.11   \n",
       "3707   Jan    3684.48       0.00        1.0        0.0                1.31   \n",
       "3708   Jun    2858.71       0.00        1.0        0.0                1.33   \n",
       "\n",
       "      TargetAchevied2016  Qtr  \n",
       "0                   1.53   Q3  \n",
       "1                   1.31   Q4  \n",
       "2                   1.29   Q2  \n",
       "3                   1.17  NaN  \n",
       "4                   1.53   Q3  \n",
       "...                  ...  ...  \n",
       "3704                1.14   Q1  \n",
       "3705                1.11   Q3  \n",
       "3706                1.55   Q4  \n",
       "3707                1.48   Q1  \n",
       "3708                1.01   Q2  \n",
       "\n",
       "[3709 rows x 15 columns]"
      ]
     },
     "execution_count": 21,
     "metadata": {},
     "output_type": "execute_result"
    }
   ],
   "source": [
    "visual.loc[(visual.Month=='Jan') |(visual.Month=='Feb')|(visual.Month=='March'),'Qtr']='Q1'\n",
    "visual.loc[(visual.Month=='Apr') |(visual.Month=='May')|(visual.Month=='Jun'),'Qtr']='Q2'\n",
    "visual.loc[(visual.Month=='Jul') |(visual.Month=='Aug')|(visual.Month=='Sep'),'Qtr']='Q3'\n",
    "visual.loc[(visual.Month=='Oct') |(visual.Month=='Nov')|(visual.Month=='Dec'),'Qtr']='Q4'\n",
    "visual"
   ]
  },
  {
   "cell_type": "markdown",
   "metadata": {},
   "source": [
    "### 7. Compare Qtr wise sales in 2015 and 2016 in a bar plot"
   ]
  },
  {
   "cell_type": "code",
   "execution_count": 22,
   "metadata": {},
   "outputs": [
    {
     "data": {
      "image/png": "[encoded data removed]",
      "text/plain": [
       "<Figure size 432x288 with 1 Axes>"
      ]
     },
     "metadata": {
      "needs_background": "light"
     },
     "output_type": "display_data"
    }
   ],
   "source": [
    "visual.groupby(\"Qtr\").agg({\"Sales2015\":['sum'],\"Sales2016\":['sum']}).plot(kind='bar')\n",
    "plt.ylabel('sales')\n",
    "plt.show()"
   ]
  },
  {
   "cell_type": "markdown",
   "metadata": {},
   "source": [
    "### 8. Determine the composition of Qtr wise sales in and 2016 with regards to all the Tiers in a pie chart.\n"
   ]
  },
  {
   "cell_type": "code",
   "execution_count": 26,
   "metadata": {},
   "outputs": [
    {
     "data": {
      "text/plain": [
       "<AxesSubplot:ylabel='Sales2016'>"
      ]
     },
     "execution_count": 26,
     "metadata": {},
     "output_type": "execute_result"
    },
    {
     "data": {
      "image/png": "[encoded data removed]",
      "text/plain": [
       "<Figure size 432x288 with 1 Axes>"
      ]
     },
     "metadata": {},
     "output_type": "display_data"
    }
   ],
   "source": [
    "pi=visual.groupby(['Qtr'])['Sales2016'].sum()\n",
    "pi.plot(kind='pie')"
   ]
  },
  {
   "cell_type": "code",
   "execution_count": null,
   "metadata": {},
   "outputs": [],
   "source": []
  }
 ],
 "metadata": {
  "kernelspec": {
   "display_name": "Python 3",
   "language": "python",
   "name": "python3"
  },
  "language_info": {
   "codemirror_mode": {
    "name": "ipython",
    "version": 3
   },
   "file_extension": ".py",
   "mimetype": "text/x-python",
   "name": "python",
   "nbconvert_exporter": "python",
   "pygments_lexer": "ipython3",
   "version": "3.7.6"
  }
 },
 "nbformat": 4,
 "nbformat_minor": 4
}
